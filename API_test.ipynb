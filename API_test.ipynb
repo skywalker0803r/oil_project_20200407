{
 "cells": [
  {
   "cell_type": "code",
   "execution_count": 19,
   "metadata": {},
   "outputs": [
    {
     "data": {
      "text/plain": [
       "['ANN(58_to_sp162).pkl', 'SVR(5_to_23).pkl', 'transformer(23_to_54).pkl']"
      ]
     },
     "execution_count": 19,
     "metadata": {},
     "output_type": "execute_result"
    }
   ],
   "source": [
    "import joblib\n",
    "import os\n",
    "from API.utils import *\n",
    "import pandas as pd\n",
    "import numpy as np\n",
    "os.listdir('./model')"
   ]
  },
  {
   "cell_type": "markdown",
   "metadata": {},
   "source": [
    "# load pretrained model"
   ]
  },
  {
   "cell_type": "code",
   "execution_count": 20,
   "metadata": {},
   "outputs": [],
   "source": [
    "A = joblib.load('./model/SVR(5_to_23).pkl')\n",
    "B = joblib.load('./model/transformer(23_to_54).pkl')\n",
    "C = joblib.load('./model/ANN(58_to_sp162).pkl')"
   ]
  },
  {
   "cell_type": "markdown",
   "metadata": {},
   "source": [
    "# input data"
   ]
  },
  {
   "cell_type": "code",
   "execution_count": 21,
   "metadata": {},
   "outputs": [
    {
     "data": {
      "text/html": [
       "<div>\n",
       "<style scoped>\n",
       "    .dataframe tbody tr th:only-of-type {\n",
       "        vertical-align: middle;\n",
       "    }\n",
       "\n",
       "    .dataframe tbody tr th {\n",
       "        vertical-align: top;\n",
       "    }\n",
       "\n",
       "    .dataframe thead th {\n",
       "        text-align: right;\n",
       "    }\n",
       "</style>\n",
       "<table border=\"1\" class=\"dataframe\">\n",
       "  <thead>\n",
       "    <tr style=\"text-align: right;\">\n",
       "      <th></th>\n",
       "      <th>T10</th>\n",
       "      <th>T50</th>\n",
       "      <th>T90</th>\n",
       "      <th>N+A</th>\n",
       "      <th>P</th>\n",
       "    </tr>\n",
       "  </thead>\n",
       "  <tbody>\n",
       "    <tr>\n",
       "      <td>0</td>\n",
       "      <td>98.6</td>\n",
       "      <td>119.2</td>\n",
       "      <td>146.1</td>\n",
       "      <td>40.133</td>\n",
       "      <td>59.867</td>\n",
       "    </tr>\n",
       "  </tbody>\n",
       "</table>\n",
       "</div>"
      ],
      "text/plain": [
       "    T10    T50    T90     N+A       P\n",
       "0  98.6  119.2  146.1  40.133  59.867"
      ]
     },
     "execution_count": 21,
     "metadata": {},
     "output_type": "execute_result"
    }
   ],
   "source": [
    "df = pd.read_csv('./data/phase_1/test_170.csv',index_col=0).head(1)\n",
    "y_test = df.iloc[:,4:]\n",
    "df['P'] = 100 - df['N+A']\n",
    "X_test = df[['T10','T50','T90','N+A','P']]\n",
    "X_test"
   ]
  },
  {
   "cell_type": "markdown",
   "metadata": {},
   "source": [
    "# step1"
   ]
  },
  {
   "cell_type": "code",
   "execution_count": 22,
   "metadata": {},
   "outputs": [
    {
     "name": "stdout",
     "output_type": "stream",
     "text": [
      "0    100.0\n",
      "dtype: float64\n"
     ]
    },
    {
     "data": {
      "text/html": [
       "<div>\n",
       "<style scoped>\n",
       "    .dataframe tbody tr th:only-of-type {\n",
       "        vertical-align: middle;\n",
       "    }\n",
       "\n",
       "    .dataframe tbody tr th {\n",
       "        vertical-align: top;\n",
       "    }\n",
       "\n",
       "    .dataframe thead th {\n",
       "        text-align: right;\n",
       "    }\n",
       "</style>\n",
       "<table border=\"1\" class=\"dataframe\">\n",
       "  <thead>\n",
       "    <tr style=\"text-align: right;\">\n",
       "      <th></th>\n",
       "      <th>C5NP</th>\n",
       "      <th>C5IP</th>\n",
       "      <th>C5N</th>\n",
       "      <th>C6NP</th>\n",
       "      <th>C6IP</th>\n",
       "      <th>C6N</th>\n",
       "      <th>C6A</th>\n",
       "      <th>C7NP</th>\n",
       "      <th>C7IP</th>\n",
       "      <th>C7N</th>\n",
       "      <th>...</th>\n",
       "      <th>C8N</th>\n",
       "      <th>C8A</th>\n",
       "      <th>C9NP</th>\n",
       "      <th>C9IP</th>\n",
       "      <th>C9N</th>\n",
       "      <th>C9A</th>\n",
       "      <th>C10NP</th>\n",
       "      <th>C10IP</th>\n",
       "      <th>C10N</th>\n",
       "      <th>C10A</th>\n",
       "    </tr>\n",
       "  </thead>\n",
       "  <tbody>\n",
       "    <tr>\n",
       "      <td>0</td>\n",
       "      <td>1.203686</td>\n",
       "      <td>0.819795</td>\n",
       "      <td>0.162816</td>\n",
       "      <td>3.60144</td>\n",
       "      <td>2.287253</td>\n",
       "      <td>3.558247</td>\n",
       "      <td>0.671907</td>\n",
       "      <td>8.028073</td>\n",
       "      <td>6.381046</td>\n",
       "      <td>9.598324</td>\n",
       "      <td>...</td>\n",
       "      <td>7.060207</td>\n",
       "      <td>5.897693</td>\n",
       "      <td>5.231254</td>\n",
       "      <td>9.390761</td>\n",
       "      <td>4.992742</td>\n",
       "      <td>3.516019</td>\n",
       "      <td>1.14882</td>\n",
       "      <td>5.289111</td>\n",
       "      <td>0.680566</td>\n",
       "      <td>0.697045</td>\n",
       "    </tr>\n",
       "  </tbody>\n",
       "</table>\n",
       "<p>1 rows × 23 columns</p>\n",
       "</div>"
      ],
      "text/plain": [
       "       C5NP      C5IP       C5N     C6NP      C6IP       C6N       C6A  \\\n",
       "0  1.203686  0.819795  0.162816  3.60144  2.287253  3.558247  0.671907   \n",
       "\n",
       "       C7NP      C7IP       C7N  ...       C8N       C8A      C9NP      C9IP  \\\n",
       "0  8.028073  6.381046  9.598324  ...  7.060207  5.897693  5.231254  9.390761   \n",
       "\n",
       "        C9N       C9A    C10NP     C10IP      C10N      C10A  \n",
       "0  4.992742  3.516019  1.14882  5.289111  0.680566  0.697045  \n",
       "\n",
       "[1 rows x 23 columns]"
      ]
     },
     "execution_count": 22,
     "metadata": {},
     "output_type": "execute_result"
    }
   ],
   "source": [
    "y_pred23 = A.predict(X_test)\n",
    "y_pred23 = pd.DataFrame(y_pred23,columns=y_test.columns)\n",
    "print(y_pred23.sum(axis=1))\n",
    "y_pred23.head()"
   ]
  },
  {
   "cell_type": "markdown",
   "metadata": {},
   "source": [
    "# step 2"
   ]
  },
  {
   "cell_type": "code",
   "execution_count": 23,
   "metadata": {},
   "outputs": [
    {
     "name": "stdout",
     "output_type": "stream",
     "text": [
      "0    100.0\n",
      "dtype: float64\n"
     ]
    },
    {
     "data": {
      "text/html": [
       "<div>\n",
       "<style scoped>\n",
       "    .dataframe tbody tr th:only-of-type {\n",
       "        vertical-align: middle;\n",
       "    }\n",
       "\n",
       "    .dataframe tbody tr th {\n",
       "        vertical-align: top;\n",
       "    }\n",
       "\n",
       "    .dataframe thead th {\n",
       "        text-align: right;\n",
       "    }\n",
       "</style>\n",
       "<table border=\"1\" class=\"dataframe\">\n",
       "  <thead>\n",
       "    <tr style=\"text-align: right;\">\n",
       "      <th></th>\n",
       "      <th>O2</th>\n",
       "      <th>METHANE</th>\n",
       "      <th>ETHANE</th>\n",
       "      <th>PROPANE</th>\n",
       "      <th>BUTANE</th>\n",
       "      <th>IPENTANE</th>\n",
       "      <th>PENTANE</th>\n",
       "      <th>T2PENTEN</th>\n",
       "      <th>CP</th>\n",
       "      <th>3MP</th>\n",
       "      <th>...</th>\n",
       "      <th>TEMH</th>\n",
       "      <th>3MN</th>\n",
       "      <th>TBCYHXAN</th>\n",
       "      <th>DECANE</th>\n",
       "      <th>ODEBZ</th>\n",
       "      <th>UNDECANE</th>\n",
       "      <th>PNBZ</th>\n",
       "      <th>DODECANE</th>\n",
       "      <th>HXBNZN</th>\n",
       "      <th>TRIDECAN</th>\n",
       "    </tr>\n",
       "  </thead>\n",
       "  <tbody>\n",
       "    <tr>\n",
       "      <td>0</td>\n",
       "      <td>0.0</td>\n",
       "      <td>0.0</td>\n",
       "      <td>0.0</td>\n",
       "      <td>0.04099</td>\n",
       "      <td>0.08198</td>\n",
       "      <td>0.68043</td>\n",
       "      <td>1.203686</td>\n",
       "      <td>0.016396</td>\n",
       "      <td>0.162816</td>\n",
       "      <td>2.241508</td>\n",
       "      <td>...</td>\n",
       "      <td>1.319701</td>\n",
       "      <td>3.079975</td>\n",
       "      <td>0.680566</td>\n",
       "      <td>0.963369</td>\n",
       "      <td>0.651806</td>\n",
       "      <td>0.182203</td>\n",
       "      <td>0.037895</td>\n",
       "      <td>0.003248</td>\n",
       "      <td>0.007344</td>\n",
       "      <td>0.0</td>\n",
       "    </tr>\n",
       "  </tbody>\n",
       "</table>\n",
       "<p>1 rows × 54 columns</p>\n",
       "</div>"
      ],
      "text/plain": [
       "    O2  METHANE  ETHANE  PROPANE   BUTANE  IPENTANE   PENTANE  T2PENTEN  \\\n",
       "0  0.0      0.0     0.0  0.04099  0.08198   0.68043  1.203686  0.016396   \n",
       "\n",
       "         CP       3MP  ...      TEMH       3MN  TBCYHXAN    DECANE     ODEBZ  \\\n",
       "0  0.162816  2.241508  ...  1.319701  3.079975  0.680566  0.963369  0.651806   \n",
       "\n",
       "   UNDECANE      PNBZ  DODECANE    HXBNZN  TRIDECAN  \n",
       "0  0.182203  0.037895  0.003248  0.007344       0.0  \n",
       "\n",
       "[1 rows x 54 columns]"
      ]
     },
     "execution_count": 23,
     "metadata": {},
     "output_type": "execute_result"
    }
   ],
   "source": [
    "y_pred54 = B(y_pred23)\n",
    "print(y_pred54.sum(axis=1))\n",
    "y_pred54.head()"
   ]
  },
  {
   "cell_type": "markdown",
   "metadata": {},
   "source": [
    "# step3"
   ]
  },
  {
   "cell_type": "code",
   "execution_count": 24,
   "metadata": {},
   "outputs": [
    {
     "data": {
      "text/html": [
       "<div>\n",
       "<style scoped>\n",
       "    .dataframe tbody tr th:only-of-type {\n",
       "        vertical-align: middle;\n",
       "    }\n",
       "\n",
       "    .dataframe tbody tr th {\n",
       "        vertical-align: top;\n",
       "    }\n",
       "\n",
       "    .dataframe thead th {\n",
       "        text-align: right;\n",
       "    }\n",
       "</style>\n",
       "<table border=\"1\" class=\"dataframe\">\n",
       "  <thead>\n",
       "    <tr style=\"text-align: right;\">\n",
       "      <th></th>\n",
       "      <th>Case Conditions_Feed Rate to C013 (Input)</th>\n",
       "      <th>Case Conditions_C7+ in Light End (Input)</th>\n",
       "      <th>Case Conditions_Heart Cut Prod. Rate (Input)</th>\n",
       "      <th>Case Conditions_C6P- in Heart Cut (Input)</th>\n",
       "      <th>O2</th>\n",
       "      <th>METHANE</th>\n",
       "      <th>ETHANE</th>\n",
       "      <th>PROPANE</th>\n",
       "      <th>BUTANE</th>\n",
       "      <th>IPENTANE</th>\n",
       "      <th>...</th>\n",
       "      <th>TEMH</th>\n",
       "      <th>3MN</th>\n",
       "      <th>TBCYHXAN</th>\n",
       "      <th>DECANE</th>\n",
       "      <th>ODEBZ</th>\n",
       "      <th>UNDECANE</th>\n",
       "      <th>PNBZ</th>\n",
       "      <th>DODECANE</th>\n",
       "      <th>HXBNZN</th>\n",
       "      <th>TRIDECAN</th>\n",
       "    </tr>\n",
       "  </thead>\n",
       "  <tbody>\n",
       "    <tr>\n",
       "      <td>0</td>\n",
       "      <td>10</td>\n",
       "      <td>2.5</td>\n",
       "      <td>100</td>\n",
       "      <td>1</td>\n",
       "      <td>0.0</td>\n",
       "      <td>0.0</td>\n",
       "      <td>0.0</td>\n",
       "      <td>0.04099</td>\n",
       "      <td>0.08198</td>\n",
       "      <td>0.68043</td>\n",
       "      <td>...</td>\n",
       "      <td>1.319701</td>\n",
       "      <td>3.079975</td>\n",
       "      <td>0.680566</td>\n",
       "      <td>0.963369</td>\n",
       "      <td>0.651806</td>\n",
       "      <td>0.182203</td>\n",
       "      <td>0.037895</td>\n",
       "      <td>0.003248</td>\n",
       "      <td>0.007344</td>\n",
       "      <td>0.0</td>\n",
       "    </tr>\n",
       "  </tbody>\n",
       "</table>\n",
       "<p>1 rows × 58 columns</p>\n",
       "</div>"
      ],
      "text/plain": [
       "  Case Conditions_Feed Rate to C013 (Input)  \\\n",
       "0                                        10   \n",
       "\n",
       "  Case Conditions_C7+ in Light End (Input)  \\\n",
       "0                                      2.5   \n",
       "\n",
       "  Case Conditions_Heart Cut Prod. Rate (Input)  \\\n",
       "0                                          100   \n",
       "\n",
       "  Case Conditions_C6P- in Heart Cut (Input)   O2  METHANE  ETHANE  PROPANE  \\\n",
       "0                                         1  0.0      0.0     0.0  0.04099   \n",
       "\n",
       "    BUTANE  IPENTANE  ...      TEMH       3MN  TBCYHXAN    DECANE     ODEBZ  \\\n",
       "0  0.08198   0.68043  ...  1.319701  3.079975  0.680566  0.963369  0.651806   \n",
       "\n",
       "   UNDECANE      PNBZ  DODECANE    HXBNZN  TRIDECAN  \n",
       "0  0.182203  0.037895  0.003248  0.007344       0.0  \n",
       "\n",
       "[1 rows x 58 columns]"
      ]
     },
     "execution_count": 24,
     "metadata": {},
     "output_type": "execute_result"
    }
   ],
   "source": [
    "case_col = ['Case Conditions_Feed Rate to C013 (Input)', \n",
    "            'Case Conditions_C7+ in Light End (Input)', \n",
    "            'Case Conditions_Heart Cut Prod. Rate (Input)', \n",
    "            'Case Conditions_C6P- in Heart Cut (Input)']\n",
    "case = pd.DataFrame(index=[0],columns=case_col)\n",
    "case.iloc[0,:] = [10,2.5,100,1]\n",
    "\n",
    "y_pred58 = pd.concat([case,y_pred54],axis=1)\n",
    "y_pred58"
   ]
  },
  {
   "cell_type": "code",
   "execution_count": 25,
   "metadata": {},
   "outputs": [
    {
     "name": "stdout",
     "output_type": "stream",
     "text": [
      "0    54.0\n",
      "dtype: float32\n"
     ]
    },
    {
     "data": {
      "text/html": [
       "<div>\n",
       "<style scoped>\n",
       "    .dataframe tbody tr th:only-of-type {\n",
       "        vertical-align: middle;\n",
       "    }\n",
       "\n",
       "    .dataframe tbody tr th {\n",
       "        vertical-align: top;\n",
       "    }\n",
       "\n",
       "    .dataframe thead th {\n",
       "        text-align: right;\n",
       "    }\n",
       "</style>\n",
       "<table border=\"1\" class=\"dataframe\">\n",
       "  <thead>\n",
       "    <tr style=\"text-align: right;\">\n",
       "      <th></th>\n",
       "      <th>Individual Component to Light End Split Factor_Oxygen</th>\n",
       "      <th>Individual Component to Heart Cut Split Factor_Oxygen</th>\n",
       "      <th>Individual Component to Heavy End Split Factor_Oxygen</th>\n",
       "      <th>Individual Component to Light End Split Factor_Methane</th>\n",
       "      <th>Individual Component to Heart Cut Split Factor_Methane</th>\n",
       "      <th>Individual Component to Heavy End Split Factor_Methane</th>\n",
       "      <th>Individual Component to Light End Split Factor_Ethane</th>\n",
       "      <th>Individual Component to Heart Cut Split Factor_Ethane</th>\n",
       "      <th>Individual Component to Heavy End Split Factor_Ethane</th>\n",
       "      <th>Individual Component to Light End Split Factor_Propane</th>\n",
       "      <th>...</th>\n",
       "      <th>Individual Component to Heavy End Split Factor_n-Pentylbenzene</th>\n",
       "      <th>Individual Component to Light End Split Factor_n-Dodecane</th>\n",
       "      <th>Individual Component to Heart Cut Split Factor_n-Dodecane</th>\n",
       "      <th>Individual Component to Heavy End Split Factor_n-Dodecane</th>\n",
       "      <th>Individual Component to Light End Split Factor_n-Hexylbenzene</th>\n",
       "      <th>Individual Component to Heart Cut Split Factor_n-Hexylbenzene</th>\n",
       "      <th>Individual Component to Heavy End Split Factor_n-Hexylbenzene</th>\n",
       "      <th>Individual Component to Light End Split Factor_n-Tridecane</th>\n",
       "      <th>Individual Component to Heart Cut Split Factor_n-Tridecane</th>\n",
       "      <th>Individual Component to Heavy End Split Factor_n-Tridecane</th>\n",
       "    </tr>\n",
       "  </thead>\n",
       "  <tbody>\n",
       "    <tr>\n",
       "      <td>0</td>\n",
       "      <td>0.999803</td>\n",
       "      <td>0.0001</td>\n",
       "      <td>0.000097</td>\n",
       "      <td>0.999925</td>\n",
       "      <td>0.000052</td>\n",
       "      <td>0.000023</td>\n",
       "      <td>0.999828</td>\n",
       "      <td>0.000041</td>\n",
       "      <td>0.000131</td>\n",
       "      <td>0.997634</td>\n",
       "      <td>...</td>\n",
       "      <td>0.455053</td>\n",
       "      <td>0.003947</td>\n",
       "      <td>0.52617</td>\n",
       "      <td>0.469883</td>\n",
       "      <td>0.001384</td>\n",
       "      <td>0.522552</td>\n",
       "      <td>0.476064</td>\n",
       "      <td>0.000071</td>\n",
       "      <td>0.000243</td>\n",
       "      <td>0.999686</td>\n",
       "    </tr>\n",
       "  </tbody>\n",
       "</table>\n",
       "<p>1 rows × 162 columns</p>\n",
       "</div>"
      ],
      "text/plain": [
       "   Individual Component to Light End Split Factor_Oxygen  \\\n",
       "0                                           0.999803       \n",
       "\n",
       "   Individual Component to Heart Cut Split Factor_Oxygen  \\\n",
       "0                                             0.0001       \n",
       "\n",
       "   Individual Component to Heavy End Split Factor_Oxygen  \\\n",
       "0                                           0.000097       \n",
       "\n",
       "   Individual Component to Light End Split Factor_Methane  \\\n",
       "0                                           0.999925        \n",
       "\n",
       "   Individual Component to Heart Cut Split Factor_Methane  \\\n",
       "0                                           0.000052        \n",
       "\n",
       "   Individual Component to Heavy End Split Factor_Methane  \\\n",
       "0                                           0.000023        \n",
       "\n",
       "   Individual Component to Light End Split Factor_Ethane  \\\n",
       "0                                           0.999828       \n",
       "\n",
       "   Individual Component to Heart Cut Split Factor_Ethane  \\\n",
       "0                                           0.000041       \n",
       "\n",
       "   Individual Component to Heavy End Split Factor_Ethane  \\\n",
       "0                                           0.000131       \n",
       "\n",
       "   Individual Component to Light End Split Factor_Propane  ...  \\\n",
       "0                                           0.997634       ...   \n",
       "\n",
       "   Individual Component to Heavy End Split Factor_n-Pentylbenzene  \\\n",
       "0                                           0.455053                \n",
       "\n",
       "   Individual Component to Light End Split Factor_n-Dodecane  \\\n",
       "0                                           0.003947           \n",
       "\n",
       "   Individual Component to Heart Cut Split Factor_n-Dodecane  \\\n",
       "0                                            0.52617           \n",
       "\n",
       "   Individual Component to Heavy End Split Factor_n-Dodecane  \\\n",
       "0                                           0.469883           \n",
       "\n",
       "   Individual Component to Light End Split Factor_n-Hexylbenzene  \\\n",
       "0                                           0.001384               \n",
       "\n",
       "   Individual Component to Heart Cut Split Factor_n-Hexylbenzene  \\\n",
       "0                                           0.522552               \n",
       "\n",
       "   Individual Component to Heavy End Split Factor_n-Hexylbenzene  \\\n",
       "0                                           0.476064               \n",
       "\n",
       "   Individual Component to Light End Split Factor_n-Tridecane  \\\n",
       "0                                           0.000071            \n",
       "\n",
       "   Individual Component to Heart Cut Split Factor_n-Tridecane  \\\n",
       "0                                           0.000243            \n",
       "\n",
       "   Individual Component to Heavy End Split Factor_n-Tridecane  \n",
       "0                                           0.999686           \n",
       "\n",
       "[1 rows x 162 columns]"
      ]
     },
     "execution_count": 25,
     "metadata": {},
     "output_type": "execute_result"
    }
   ],
   "source": [
    "sp162 = C.predict(y_pred58)\n",
    "print(sp162.sum(axis=1))\n",
    "sp162"
   ]
  },
  {
   "cell_type": "code",
   "execution_count": null,
   "metadata": {},
   "outputs": [],
   "source": []
  },
  {
   "cell_type": "code",
   "execution_count": null,
   "metadata": {},
   "outputs": [],
   "source": []
  },
  {
   "cell_type": "code",
   "execution_count": null,
   "metadata": {},
   "outputs": [],
   "source": []
  },
  {
   "cell_type": "code",
   "execution_count": null,
   "metadata": {},
   "outputs": [],
   "source": []
  },
  {
   "cell_type": "code",
   "execution_count": null,
   "metadata": {},
   "outputs": [],
   "source": []
  },
  {
   "cell_type": "code",
   "execution_count": null,
   "metadata": {},
   "outputs": [],
   "source": []
  },
  {
   "cell_type": "code",
   "execution_count": null,
   "metadata": {},
   "outputs": [],
   "source": []
  },
  {
   "cell_type": "code",
   "execution_count": null,
   "metadata": {},
   "outputs": [],
   "source": []
  }
 ],
 "metadata": {
  "kernelspec": {
   "display_name": "Python 3",
   "language": "python",
   "name": "python3"
  },
  "language_info": {
   "codemirror_mode": {
    "name": "ipython",
    "version": 3
   },
   "file_extension": ".py",
   "mimetype": "text/x-python",
   "name": "python",
   "nbconvert_exporter": "python",
   "pygments_lexer": "ipython3",
   "version": "3.7.4"
  }
 },
 "nbformat": 4,
 "nbformat_minor": 2
}
